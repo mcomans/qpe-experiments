{
 "cells": [
  {
   "cell_type": "markdown",
   "metadata": {},
   "source": [
    "# Analysis of experiments"
   ]
  },
  {
   "cell_type": "code",
   "execution_count": 6,
   "metadata": {},
   "outputs": [],
   "source": [
    "import pandas as pd"
   ]
  },
  {
   "cell_type": "code",
   "execution_count": 7,
   "metadata": {},
   "outputs": [],
   "source": [
    "import statsmodels.api as sm\n",
    "from statsmodels.formula.api import ols"
   ]
  },
  {
   "cell_type": "markdown",
   "metadata": {},
   "source": [
    "## First phase of experiments\n",
    "\n",
    "The following results are from the first phase, fractional factorial experiments on LeNet5 and BRNN.\n"
   ]
  },
  {
   "cell_type": "markdown",
   "metadata": {},
   "source": [
    "### LeNet5"
   ]
  },
  {
   "cell_type": "code",
   "execution_count": 176,
   "metadata": {},
   "outputs": [],
   "source": [
    "results_lenet_phase_1=pd.read_csv(\"results_lenet_phase_1.csv\")"
   ]
  },
  {
   "cell_type": "code",
   "execution_count": 183,
   "metadata": {
    "scrolled": false
   },
   "outputs": [
    {
     "data": {
      "text/html": [
       "<div>\n",
       "<style scoped>\n",
       "    .dataframe tbody tr th:only-of-type {\n",
       "        vertical-align: middle;\n",
       "    }\n",
       "\n",
       "    .dataframe tbody tr th {\n",
       "        vertical-align: top;\n",
       "    }\n",
       "\n",
       "    .dataframe thead th {\n",
       "        text-align: right;\n",
       "    }\n",
       "</style>\n",
       "<table border=\"1\" class=\"dataframe\">\n",
       "  <thead>\n",
       "    <tr style=\"text-align: right;\">\n",
       "      <th></th>\n",
       "      <th>df</th>\n",
       "      <th>sum_sq</th>\n",
       "      <th>mean_sq</th>\n",
       "      <th>F</th>\n",
       "      <th>PR(&gt;F)</th>\n",
       "    </tr>\n",
       "  </thead>\n",
       "  <tbody>\n",
       "    <tr>\n",
       "      <th>C(learning_rate)</th>\n",
       "      <td>1.0</td>\n",
       "      <td>0.440895</td>\n",
       "      <td>0.440895</td>\n",
       "      <td>386.885063</td>\n",
       "      <td>1.954611e-19</td>\n",
       "    </tr>\n",
       "    <tr>\n",
       "      <th>C(batch_size)</th>\n",
       "      <td>1.0</td>\n",
       "      <td>0.119083</td>\n",
       "      <td>0.119083</td>\n",
       "      <td>104.494947</td>\n",
       "      <td>1.320339e-11</td>\n",
       "    </tr>\n",
       "    <tr>\n",
       "      <th>C(epochs)</th>\n",
       "      <td>1.0</td>\n",
       "      <td>0.320714</td>\n",
       "      <td>0.320714</td>\n",
       "      <td>281.426660</td>\n",
       "      <td>2.051831e-17</td>\n",
       "    </tr>\n",
       "    <tr>\n",
       "      <th>C(train_size)</th>\n",
       "      <td>1.0</td>\n",
       "      <td>2.672735</td>\n",
       "      <td>2.672735</td>\n",
       "      <td>2345.323158</td>\n",
       "      <td>1.635797e-31</td>\n",
       "    </tr>\n",
       "    <tr>\n",
       "      <th>C(learning_rate):C(batch_size)</th>\n",
       "      <td>1.0</td>\n",
       "      <td>0.183752</td>\n",
       "      <td>0.183752</td>\n",
       "      <td>161.241898</td>\n",
       "      <td>4.870371e-14</td>\n",
       "    </tr>\n",
       "    <tr>\n",
       "      <th>C(learning_rate):C(epochs)</th>\n",
       "      <td>1.0</td>\n",
       "      <td>0.047025</td>\n",
       "      <td>0.047025</td>\n",
       "      <td>41.264679</td>\n",
       "      <td>3.201043e-07</td>\n",
       "    </tr>\n",
       "    <tr>\n",
       "      <th>C(batch_size):C(epochs)</th>\n",
       "      <td>1.0</td>\n",
       "      <td>0.254100</td>\n",
       "      <td>0.254100</td>\n",
       "      <td>222.972201</td>\n",
       "      <td>5.646673e-16</td>\n",
       "    </tr>\n",
       "    <tr>\n",
       "      <th>C(learning_rate):C(train_size)</th>\n",
       "      <td>1.0</td>\n",
       "      <td>0.004024</td>\n",
       "      <td>0.004024</td>\n",
       "      <td>3.531053</td>\n",
       "      <td>6.936376e-02</td>\n",
       "    </tr>\n",
       "    <tr>\n",
       "      <th>C(batch_size):C(train_size)</th>\n",
       "      <td>1.0</td>\n",
       "      <td>0.000049</td>\n",
       "      <td>0.000049</td>\n",
       "      <td>0.042590</td>\n",
       "      <td>8.378073e-01</td>\n",
       "    </tr>\n",
       "    <tr>\n",
       "      <th>C(epochs):C(train_size)</th>\n",
       "      <td>1.0</td>\n",
       "      <td>0.000040</td>\n",
       "      <td>0.000040</td>\n",
       "      <td>0.035470</td>\n",
       "      <td>8.518043e-01</td>\n",
       "    </tr>\n",
       "    <tr>\n",
       "      <th>C(learning_rate):C(batch_size):C(epochs)</th>\n",
       "      <td>1.0</td>\n",
       "      <td>0.002813</td>\n",
       "      <td>0.002813</td>\n",
       "      <td>2.468746</td>\n",
       "      <td>1.259671e-01</td>\n",
       "    </tr>\n",
       "    <tr>\n",
       "      <th>C(learning_rate):C(batch_size):C(train_size)</th>\n",
       "      <td>1.0</td>\n",
       "      <td>0.000014</td>\n",
       "      <td>0.000014</td>\n",
       "      <td>0.012229</td>\n",
       "      <td>9.126377e-01</td>\n",
       "    </tr>\n",
       "    <tr>\n",
       "      <th>C(learning_rate):C(epochs):C(train_size)</th>\n",
       "      <td>1.0</td>\n",
       "      <td>0.000029</td>\n",
       "      <td>0.000029</td>\n",
       "      <td>0.025330</td>\n",
       "      <td>8.745484e-01</td>\n",
       "    </tr>\n",
       "    <tr>\n",
       "      <th>C(batch_size):C(epochs):C(train_size)</th>\n",
       "      <td>1.0</td>\n",
       "      <td>0.000058</td>\n",
       "      <td>0.000058</td>\n",
       "      <td>0.051107</td>\n",
       "      <td>8.225864e-01</td>\n",
       "    </tr>\n",
       "    <tr>\n",
       "      <th>C(learning_rate):C(batch_size):C(epochs):C(train_size)</th>\n",
       "      <td>1.0</td>\n",
       "      <td>0.000088</td>\n",
       "      <td>0.000088</td>\n",
       "      <td>0.076876</td>\n",
       "      <td>7.833599e-01</td>\n",
       "    </tr>\n",
       "    <tr>\n",
       "      <th>Residual</th>\n",
       "      <td>32.0</td>\n",
       "      <td>0.036467</td>\n",
       "      <td>0.001140</td>\n",
       "      <td>NaN</td>\n",
       "      <td>NaN</td>\n",
       "    </tr>\n",
       "  </tbody>\n",
       "</table>\n",
       "</div>"
      ],
      "text/plain": [
       "                                                      df    sum_sq   mean_sq  \\\n",
       "C(learning_rate)                                     1.0  0.440895  0.440895   \n",
       "C(batch_size)                                        1.0  0.119083  0.119083   \n",
       "C(epochs)                                            1.0  0.320714  0.320714   \n",
       "C(train_size)                                        1.0  2.672735  2.672735   \n",
       "C(learning_rate):C(batch_size)                       1.0  0.183752  0.183752   \n",
       "C(learning_rate):C(epochs)                           1.0  0.047025  0.047025   \n",
       "C(batch_size):C(epochs)                              1.0  0.254100  0.254100   \n",
       "C(learning_rate):C(train_size)                       1.0  0.004024  0.004024   \n",
       "C(batch_size):C(train_size)                          1.0  0.000049  0.000049   \n",
       "C(epochs):C(train_size)                              1.0  0.000040  0.000040   \n",
       "C(learning_rate):C(batch_size):C(epochs)             1.0  0.002813  0.002813   \n",
       "C(learning_rate):C(batch_size):C(train_size)         1.0  0.000014  0.000014   \n",
       "C(learning_rate):C(epochs):C(train_size)             1.0  0.000029  0.000029   \n",
       "C(batch_size):C(epochs):C(train_size)                1.0  0.000058  0.000058   \n",
       "C(learning_rate):C(batch_size):C(epochs):C(trai...   1.0  0.000088  0.000088   \n",
       "Residual                                            32.0  0.036467  0.001140   \n",
       "\n",
       "                                                              F        PR(>F)  \n",
       "C(learning_rate)                                     386.885063  1.954611e-19  \n",
       "C(batch_size)                                        104.494947  1.320339e-11  \n",
       "C(epochs)                                            281.426660  2.051831e-17  \n",
       "C(train_size)                                       2345.323158  1.635797e-31  \n",
       "C(learning_rate):C(batch_size)                       161.241898  4.870371e-14  \n",
       "C(learning_rate):C(epochs)                            41.264679  3.201043e-07  \n",
       "C(batch_size):C(epochs)                              222.972201  5.646673e-16  \n",
       "C(learning_rate):C(train_size)                         3.531053  6.936376e-02  \n",
       "C(batch_size):C(train_size)                            0.042590  8.378073e-01  \n",
       "C(epochs):C(train_size)                                0.035470  8.518043e-01  \n",
       "C(learning_rate):C(batch_size):C(epochs)               2.468746  1.259671e-01  \n",
       "C(learning_rate):C(batch_size):C(train_size)           0.012229  9.126377e-01  \n",
       "C(learning_rate):C(epochs):C(train_size)               0.025330  8.745484e-01  \n",
       "C(batch_size):C(epochs):C(train_size)                  0.051107  8.225864e-01  \n",
       "C(learning_rate):C(batch_size):C(epochs):C(trai...     0.076876  7.833599e-01  \n",
       "Residual                                                    NaN           NaN  "
      ]
     },
     "execution_count": 183,
     "metadata": {},
     "output_type": "execute_result"
    }
   ],
   "source": [
    "model_lenet_phase_1 = ols('accuracy ~ C(learning_rate)*C(batch_size)*C(epochs)*C(train_size)', results_lenet_phase_1).fit()\n",
    "sm.stats.anova_lm(model_lenet_phase_1, type=2)"
   ]
  },
  {
   "cell_type": "markdown",
   "metadata": {},
   "source": [
    "### BRNN"
   ]
  },
  {
   "cell_type": "code",
   "execution_count": 190,
   "metadata": {},
   "outputs": [],
   "source": [
    "results_birnn_phase_1=pd.read_csv(\"results_birnn_phase_1.csv\")"
   ]
  },
  {
   "cell_type": "code",
   "execution_count": 191,
   "metadata": {
    "scrolled": false
   },
   "outputs": [
    {
     "data": {
      "text/html": [
       "<div>\n",
       "<style scoped>\n",
       "    .dataframe tbody tr th:only-of-type {\n",
       "        vertical-align: middle;\n",
       "    }\n",
       "\n",
       "    .dataframe tbody tr th {\n",
       "        vertical-align: top;\n",
       "    }\n",
       "\n",
       "    .dataframe thead th {\n",
       "        text-align: right;\n",
       "    }\n",
       "</style>\n",
       "<table border=\"1\" class=\"dataframe\">\n",
       "  <thead>\n",
       "    <tr style=\"text-align: right;\">\n",
       "      <th></th>\n",
       "      <th>df</th>\n",
       "      <th>sum_sq</th>\n",
       "      <th>mean_sq</th>\n",
       "      <th>F</th>\n",
       "      <th>PR(&gt;F)</th>\n",
       "    </tr>\n",
       "  </thead>\n",
       "  <tbody>\n",
       "    <tr>\n",
       "      <th>C(learning_rate)</th>\n",
       "      <td>1.0</td>\n",
       "      <td>1.365783</td>\n",
       "      <td>1.365783</td>\n",
       "      <td>2692.261318</td>\n",
       "      <td>1.848444e-32</td>\n",
       "    </tr>\n",
       "    <tr>\n",
       "      <th>C(batch_size)</th>\n",
       "      <td>1.0</td>\n",
       "      <td>1.325288</td>\n",
       "      <td>1.325288</td>\n",
       "      <td>2612.436174</td>\n",
       "      <td>2.975297e-32</td>\n",
       "    </tr>\n",
       "    <tr>\n",
       "      <th>C(epochs)</th>\n",
       "      <td>1.0</td>\n",
       "      <td>1.414098</td>\n",
       "      <td>1.414098</td>\n",
       "      <td>2787.501932</td>\n",
       "      <td>1.066464e-32</td>\n",
       "    </tr>\n",
       "    <tr>\n",
       "      <th>C(train_size)</th>\n",
       "      <td>1.0</td>\n",
       "      <td>2.122030</td>\n",
       "      <td>2.122030</td>\n",
       "      <td>4182.992785</td>\n",
       "      <td>1.710725e-35</td>\n",
       "    </tr>\n",
       "    <tr>\n",
       "      <th>C(learning_rate):C(batch_size)</th>\n",
       "      <td>1.0</td>\n",
       "      <td>0.001504</td>\n",
       "      <td>0.001504</td>\n",
       "      <td>2.965311</td>\n",
       "      <td>9.472258e-02</td>\n",
       "    </tr>\n",
       "    <tr>\n",
       "      <th>C(learning_rate):C(epochs)</th>\n",
       "      <td>1.0</td>\n",
       "      <td>0.002306</td>\n",
       "      <td>0.002306</td>\n",
       "      <td>4.545326</td>\n",
       "      <td>4.078299e-02</td>\n",
       "    </tr>\n",
       "    <tr>\n",
       "      <th>C(batch_size):C(epochs)</th>\n",
       "      <td>1.0</td>\n",
       "      <td>0.010841</td>\n",
       "      <td>0.010841</td>\n",
       "      <td>21.369140</td>\n",
       "      <td>5.929487e-05</td>\n",
       "    </tr>\n",
       "    <tr>\n",
       "      <th>C(learning_rate):C(train_size)</th>\n",
       "      <td>1.0</td>\n",
       "      <td>0.005281</td>\n",
       "      <td>0.005281</td>\n",
       "      <td>10.410399</td>\n",
       "      <td>2.888436e-03</td>\n",
       "    </tr>\n",
       "    <tr>\n",
       "      <th>C(batch_size):C(train_size)</th>\n",
       "      <td>1.0</td>\n",
       "      <td>0.000671</td>\n",
       "      <td>0.000671</td>\n",
       "      <td>1.322908</td>\n",
       "      <td>2.585940e-01</td>\n",
       "    </tr>\n",
       "    <tr>\n",
       "      <th>C(epochs):C(train_size)</th>\n",
       "      <td>1.0</td>\n",
       "      <td>0.000903</td>\n",
       "      <td>0.000903</td>\n",
       "      <td>1.780621</td>\n",
       "      <td>1.914914e-01</td>\n",
       "    </tr>\n",
       "    <tr>\n",
       "      <th>C(learning_rate):C(batch_size):C(epochs)</th>\n",
       "      <td>1.0</td>\n",
       "      <td>0.000046</td>\n",
       "      <td>0.000046</td>\n",
       "      <td>0.091518</td>\n",
       "      <td>7.642143e-01</td>\n",
       "    </tr>\n",
       "    <tr>\n",
       "      <th>C(learning_rate):C(batch_size):C(train_size)</th>\n",
       "      <td>1.0</td>\n",
       "      <td>0.000054</td>\n",
       "      <td>0.000054</td>\n",
       "      <td>0.105512</td>\n",
       "      <td>7.474273e-01</td>\n",
       "    </tr>\n",
       "    <tr>\n",
       "      <th>C(learning_rate):C(epochs):C(train_size)</th>\n",
       "      <td>1.0</td>\n",
       "      <td>0.000027</td>\n",
       "      <td>0.000027</td>\n",
       "      <td>0.052996</td>\n",
       "      <td>8.193943e-01</td>\n",
       "    </tr>\n",
       "    <tr>\n",
       "      <th>C(batch_size):C(epochs):C(train_size)</th>\n",
       "      <td>1.0</td>\n",
       "      <td>0.000115</td>\n",
       "      <td>0.000115</td>\n",
       "      <td>0.227415</td>\n",
       "      <td>6.366881e-01</td>\n",
       "    </tr>\n",
       "    <tr>\n",
       "      <th>C(learning_rate):C(batch_size):C(epochs):C(train_size)</th>\n",
       "      <td>1.0</td>\n",
       "      <td>0.000585</td>\n",
       "      <td>0.000585</td>\n",
       "      <td>1.154101</td>\n",
       "      <td>2.907265e-01</td>\n",
       "    </tr>\n",
       "    <tr>\n",
       "      <th>Residual</th>\n",
       "      <td>32.0</td>\n",
       "      <td>0.016234</td>\n",
       "      <td>0.000507</td>\n",
       "      <td>NaN</td>\n",
       "      <td>NaN</td>\n",
       "    </tr>\n",
       "  </tbody>\n",
       "</table>\n",
       "</div>"
      ],
      "text/plain": [
       "                                                      df    sum_sq   mean_sq  \\\n",
       "C(learning_rate)                                     1.0  1.365783  1.365783   \n",
       "C(batch_size)                                        1.0  1.325288  1.325288   \n",
       "C(epochs)                                            1.0  1.414098  1.414098   \n",
       "C(train_size)                                        1.0  2.122030  2.122030   \n",
       "C(learning_rate):C(batch_size)                       1.0  0.001504  0.001504   \n",
       "C(learning_rate):C(epochs)                           1.0  0.002306  0.002306   \n",
       "C(batch_size):C(epochs)                              1.0  0.010841  0.010841   \n",
       "C(learning_rate):C(train_size)                       1.0  0.005281  0.005281   \n",
       "C(batch_size):C(train_size)                          1.0  0.000671  0.000671   \n",
       "C(epochs):C(train_size)                              1.0  0.000903  0.000903   \n",
       "C(learning_rate):C(batch_size):C(epochs)             1.0  0.000046  0.000046   \n",
       "C(learning_rate):C(batch_size):C(train_size)         1.0  0.000054  0.000054   \n",
       "C(learning_rate):C(epochs):C(train_size)             1.0  0.000027  0.000027   \n",
       "C(batch_size):C(epochs):C(train_size)                1.0  0.000115  0.000115   \n",
       "C(learning_rate):C(batch_size):C(epochs):C(trai...   1.0  0.000585  0.000585   \n",
       "Residual                                            32.0  0.016234  0.000507   \n",
       "\n",
       "                                                              F        PR(>F)  \n",
       "C(learning_rate)                                    2692.261318  1.848444e-32  \n",
       "C(batch_size)                                       2612.436174  2.975297e-32  \n",
       "C(epochs)                                           2787.501932  1.066464e-32  \n",
       "C(train_size)                                       4182.992785  1.710725e-35  \n",
       "C(learning_rate):C(batch_size)                         2.965311  9.472258e-02  \n",
       "C(learning_rate):C(epochs)                             4.545326  4.078299e-02  \n",
       "C(batch_size):C(epochs)                               21.369140  5.929487e-05  \n",
       "C(learning_rate):C(train_size)                        10.410399  2.888436e-03  \n",
       "C(batch_size):C(train_size)                            1.322908  2.585940e-01  \n",
       "C(epochs):C(train_size)                                1.780621  1.914914e-01  \n",
       "C(learning_rate):C(batch_size):C(epochs)               0.091518  7.642143e-01  \n",
       "C(learning_rate):C(batch_size):C(train_size)           0.105512  7.474273e-01  \n",
       "C(learning_rate):C(epochs):C(train_size)               0.052996  8.193943e-01  \n",
       "C(batch_size):C(epochs):C(train_size)                  0.227415  6.366881e-01  \n",
       "C(learning_rate):C(batch_size):C(epochs):C(trai...     1.154101  2.907265e-01  \n",
       "Residual                                                    NaN           NaN  "
      ]
     },
     "execution_count": 191,
     "metadata": {},
     "output_type": "execute_result"
    }
   ],
   "source": [
    "model_birnn_phase_1 = ols('accuracy ~ C(learning_rate)*C(batch_size)*C(epochs)*C(train_size)', results_birnn_phase_1).fit()\n",
    "sm.stats.anova_lm(model_birnn_phase_1, type=2)"
   ]
  },
  {
   "cell_type": "markdown",
   "metadata": {},
   "source": [
    "## Second phase of experiments\n",
    "\n",
    "The following results were from the second phase of experiments. These experiments were 2-factor designs."
   ]
  },
  {
   "cell_type": "markdown",
   "metadata": {},
   "source": [
    "### LeNet5"
   ]
  },
  {
   "cell_type": "code",
   "execution_count": 225,
   "metadata": {},
   "outputs": [],
   "source": [
    "results_lenet_phase_2 = pd.read_csv(\"results_lenet_phase_2.csv\")\n",
    "model_lenet_phase_2 = ols('accuracy ~ np.log(learning_rate)*np.log(train_size)', results_lenet_phase_2).fit()"
   ]
  },
  {
   "cell_type": "code",
   "execution_count": 226,
   "metadata": {
    "scrolled": false
   },
   "outputs": [
    {
     "data": {
      "text/html": [
       "<table class=\"simpletable\">\n",
       "<caption>OLS Regression Results</caption>\n",
       "<tr>\n",
       "  <th>Dep. Variable:</th>        <td>accuracy</td>     <th>  R-squared:         </th> <td>   0.863</td>\n",
       "</tr>\n",
       "<tr>\n",
       "  <th>Model:</th>                   <td>OLS</td>       <th>  Adj. R-squared:    </th> <td>   0.860</td>\n",
       "</tr>\n",
       "<tr>\n",
       "  <th>Method:</th>             <td>Least Squares</td>  <th>  F-statistic:       </th> <td>   254.5</td>\n",
       "</tr>\n",
       "<tr>\n",
       "  <th>Date:</th>             <td>Fri, 23 Oct 2020</td> <th>  Prob (F-statistic):</th> <td>4.44e-52</td>\n",
       "</tr>\n",
       "<tr>\n",
       "  <th>Time:</th>                 <td>14:48:19</td>     <th>  Log-Likelihood:    </th> <td>  125.90</td>\n",
       "</tr>\n",
       "<tr>\n",
       "  <th>No. Observations:</th>      <td>   125</td>      <th>  AIC:               </th> <td>  -243.8</td>\n",
       "</tr>\n",
       "<tr>\n",
       "  <th>Df Residuals:</th>          <td>   121</td>      <th>  BIC:               </th> <td>  -232.5</td>\n",
       "</tr>\n",
       "<tr>\n",
       "  <th>Df Model:</th>              <td>     3</td>      <th>                     </th>     <td> </td>   \n",
       "</tr>\n",
       "<tr>\n",
       "  <th>Covariance Type:</th>      <td>nonrobust</td>    <th>                     </th>     <td> </td>   \n",
       "</tr>\n",
       "</table>\n",
       "<table class=\"simpletable\">\n",
       "<tr>\n",
       "                      <td></td>                        <th>coef</th>     <th>std err</th>      <th>t</th>      <th>P>|t|</th>  <th>[0.025</th>    <th>0.975]</th>  \n",
       "</tr>\n",
       "<tr>\n",
       "  <th>Intercept</th>                                <td>    1.0104</td> <td>    0.044</td> <td>   22.883</td> <td> 0.000</td> <td>    0.923</td> <td>    1.098</td>\n",
       "</tr>\n",
       "<tr>\n",
       "  <th>np.log(learning_rate)</th>                    <td>   -0.0031</td> <td>    0.009</td> <td>   -0.336</td> <td> 0.738</td> <td>   -0.022</td> <td>    0.015</td>\n",
       "</tr>\n",
       "<tr>\n",
       "  <th>np.log(train_size)</th>                       <td>   -0.0620</td> <td>    0.012</td> <td>   -5.007</td> <td> 0.000</td> <td>   -0.087</td> <td>   -0.037</td>\n",
       "</tr>\n",
       "<tr>\n",
       "  <th>np.log(learning_rate):np.log(train_size)</th> <td>   -0.0306</td> <td>    0.003</td> <td>  -11.661</td> <td> 0.000</td> <td>   -0.036</td> <td>   -0.025</td>\n",
       "</tr>\n",
       "</table>\n",
       "<table class=\"simpletable\">\n",
       "<tr>\n",
       "  <th>Omnibus:</th>       <td> 3.604</td> <th>  Durbin-Watson:     </th> <td>   0.390</td>\n",
       "</tr>\n",
       "<tr>\n",
       "  <th>Prob(Omnibus):</th> <td> 0.165</td> <th>  Jarque-Bera (JB):  </th> <td>   2.144</td>\n",
       "</tr>\n",
       "<tr>\n",
       "  <th>Skew:</th>          <td> 0.027</td> <th>  Prob(JB):          </th> <td>   0.342</td>\n",
       "</tr>\n",
       "<tr>\n",
       "  <th>Kurtosis:</th>      <td> 2.361</td> <th>  Cond. No.          </th> <td>    102.</td>\n",
       "</tr>\n",
       "</table><br/><br/>Notes:<br/>[1] Standard Errors assume that the covariance matrix of the errors is correctly specified."
      ],
      "text/plain": [
       "<class 'statsmodels.iolib.summary.Summary'>\n",
       "\"\"\"\n",
       "                            OLS Regression Results                            \n",
       "==============================================================================\n",
       "Dep. Variable:               accuracy   R-squared:                       0.863\n",
       "Model:                            OLS   Adj. R-squared:                  0.860\n",
       "Method:                 Least Squares   F-statistic:                     254.5\n",
       "Date:                Fri, 23 Oct 2020   Prob (F-statistic):           4.44e-52\n",
       "Time:                        14:48:19   Log-Likelihood:                 125.90\n",
       "No. Observations:                 125   AIC:                            -243.8\n",
       "Df Residuals:                     121   BIC:                            -232.5\n",
       "Df Model:                           3                                         \n",
       "Covariance Type:            nonrobust                                         \n",
       "============================================================================================================\n",
       "                                               coef    std err          t      P>|t|      [0.025      0.975]\n",
       "------------------------------------------------------------------------------------------------------------\n",
       "Intercept                                    1.0104      0.044     22.883      0.000       0.923       1.098\n",
       "np.log(learning_rate)                       -0.0031      0.009     -0.336      0.738      -0.022       0.015\n",
       "np.log(train_size)                          -0.0620      0.012     -5.007      0.000      -0.087      -0.037\n",
       "np.log(learning_rate):np.log(train_size)    -0.0306      0.003    -11.661      0.000      -0.036      -0.025\n",
       "==============================================================================\n",
       "Omnibus:                        3.604   Durbin-Watson:                   0.390\n",
       "Prob(Omnibus):                  0.165   Jarque-Bera (JB):                2.144\n",
       "Skew:                           0.027   Prob(JB):                        0.342\n",
       "Kurtosis:                       2.361   Cond. No.                         102.\n",
       "==============================================================================\n",
       "\n",
       "Notes:\n",
       "[1] Standard Errors assume that the covariance matrix of the errors is correctly specified.\n",
       "\"\"\""
      ]
     },
     "execution_count": 226,
     "metadata": {},
     "output_type": "execute_result"
    }
   ],
   "source": [
    "model_lenet_phase_2.summary()"
   ]
  },
  {
   "cell_type": "markdown",
   "metadata": {},
   "source": [
    "**ANOVA table**"
   ]
  },
  {
   "cell_type": "code",
   "execution_count": 251,
   "metadata": {
    "scrolled": false
   },
   "outputs": [
    {
     "data": {
      "text/html": [
       "<div>\n",
       "<style scoped>\n",
       "    .dataframe tbody tr th:only-of-type {\n",
       "        vertical-align: middle;\n",
       "    }\n",
       "\n",
       "    .dataframe tbody tr th {\n",
       "        vertical-align: top;\n",
       "    }\n",
       "\n",
       "    .dataframe thead th {\n",
       "        text-align: right;\n",
       "    }\n",
       "</style>\n",
       "<table border=\"1\" class=\"dataframe\">\n",
       "  <thead>\n",
       "    <tr style=\"text-align: right;\">\n",
       "      <th></th>\n",
       "      <th>df</th>\n",
       "      <th>sum_sq</th>\n",
       "      <th>mean_sq</th>\n",
       "      <th>F</th>\n",
       "      <th>PR(&gt;F)</th>\n",
       "    </tr>\n",
       "  </thead>\n",
       "  <tbody>\n",
       "    <tr>\n",
       "      <th>np.log(learning_rate)</th>\n",
       "      <td>1.0</td>\n",
       "      <td>2.731105</td>\n",
       "      <td>2.731105</td>\n",
       "      <td>338.475186</td>\n",
       "      <td>7.352321e-37</td>\n",
       "    </tr>\n",
       "    <tr>\n",
       "      <th>np.log(train_size)</th>\n",
       "      <td>1.0</td>\n",
       "      <td>2.332248</td>\n",
       "      <td>2.332248</td>\n",
       "      <td>289.043426</td>\n",
       "      <td>7.352351e-34</td>\n",
       "    </tr>\n",
       "    <tr>\n",
       "      <th>np.log(learning_rate):np.log(train_size)</th>\n",
       "      <td>1.0</td>\n",
       "      <td>1.097259</td>\n",
       "      <td>1.097259</td>\n",
       "      <td>135.986997</td>\n",
       "      <td>1.598304e-21</td>\n",
       "    </tr>\n",
       "    <tr>\n",
       "      <th>Residual</th>\n",
       "      <td>121.0</td>\n",
       "      <td>0.976331</td>\n",
       "      <td>0.008069</td>\n",
       "      <td>NaN</td>\n",
       "      <td>NaN</td>\n",
       "    </tr>\n",
       "  </tbody>\n",
       "</table>\n",
       "</div>"
      ],
      "text/plain": [
       "                                             df    sum_sq   mean_sq  \\\n",
       "np.log(learning_rate)                       1.0  2.731105  2.731105   \n",
       "np.log(train_size)                          1.0  2.332248  2.332248   \n",
       "np.log(learning_rate):np.log(train_size)    1.0  1.097259  1.097259   \n",
       "Residual                                  121.0  0.976331  0.008069   \n",
       "\n",
       "                                                   F        PR(>F)  \n",
       "np.log(learning_rate)                     338.475186  7.352321e-37  \n",
       "np.log(train_size)                        289.043426  7.352351e-34  \n",
       "np.log(learning_rate):np.log(train_size)  135.986997  1.598304e-21  \n",
       "Residual                                         NaN           NaN  "
      ]
     },
     "execution_count": 251,
     "metadata": {},
     "output_type": "execute_result"
    }
   ],
   "source": [
    "sm.stats.anova_lm(model_lenet_phase_2, type=2)"
   ]
  },
  {
   "cell_type": "code",
   "execution_count": 254,
   "metadata": {
    "scrolled": true
   },
   "outputs": [
    {
     "data": {
      "text/plain": [
       "Intercept                                   1.010371\n",
       "np.log(learning_rate)                      -0.003141\n",
       "np.log(train_size)                         -0.062014\n",
       "np.log(learning_rate):np.log(train_size)   -0.030613\n",
       "dtype: float64"
      ]
     },
     "execution_count": 254,
     "metadata": {},
     "output_type": "execute_result"
    }
   ],
   "source": [
    "model_lenet_phase_2.params"
   ]
  },
  {
   "cell_type": "markdown",
   "metadata": {},
   "source": [
    "**Training set size prediction function**"
   ]
  },
  {
   "cell_type": "code",
   "execution_count": 255,
   "metadata": {},
   "outputs": [],
   "source": [
    "mu = model_lenet_phase_2.params['Intercept']\n",
    "w_lr = model_lenet_phase_2.params['np.log(learning_rate)']\n",
    "w_ts = model_lenet_phase_2.params['np.log(train_size)']\n",
    "w_lr_ts = model_lenet_phase_2.params['np.log(learning_rate):np.log(train_size)']\n",
    "\n",
    "def predict_train_size_lenet(acc, lr):\n",
    "    return np.exp(\n",
    "        (-w_lr*np.log(lr) - mu + acc)/\n",
    "        (w_lr_ts*np.log(lr) + w_ts)\n",
    "    )  "
   ]
  },
  {
   "cell_type": "code",
   "execution_count": 256,
   "metadata": {},
   "outputs": [
    {
     "data": {
      "text/plain": [
       "0.017709306348119343"
      ]
     },
     "execution_count": 256,
     "metadata": {},
     "output_type": "execute_result"
    }
   ],
   "source": [
    "predict_train_size_lenet(0.9, 0.05)"
   ]
  },
  {
   "cell_type": "markdown",
   "metadata": {},
   "source": [
    "**Plots**"
   ]
  },
  {
   "cell_type": "code",
   "execution_count": 106,
   "metadata": {},
   "outputs": [],
   "source": [
    "import matplotlib.pyplot as plt\n",
    "import matplotlib.colors as colors\n",
    "import matplotlib.cm as cm\n",
    "import numpy as np\n",
    "import scipy as sp"
   ]
  },
  {
   "cell_type": "code",
   "execution_count": 200,
   "metadata": {
    "scrolled": false
   },
   "outputs": [
    {
     "data": {
      "image/png": "[encoded data removed]",
      "text/plain": [
       "<Figure size 432x288 with 1 Axes>"
      ]
     },
     "metadata": {
      "needs_background": "light"
     },
     "output_type": "display_data"
    }
   ],
   "source": [
    "fig, ax = plt.subplots()\n",
    "\n",
    "learning_rates = results_lenet_phase_2['learning_rate'].unique()\n",
    "cmap_norm = colors.LogNorm(learning_rates.min(), learning_rates.max())\n",
    "cmap = cm.get_cmap()\n",
    "scatters=[]\n",
    "\n",
    "for lr in learning_rates:\n",
    "    data = results_lenet_phase_2[results_lenet_phase_2['learning_rate']==lr]\n",
    "    \n",
    "    z = np.polyfit(np.log10(data['train_size']), data['accuracy'], 1)\n",
    "    f = np.poly1d(z)\n",
    "    \n",
    "    #params, params_covariance = sp.optimize.curve_fit(f, data['train_size'], data['accuracy'])\n",
    "    \n",
    "    scatters.append(ax.scatter(data['train_size'], \n",
    "               data['accuracy'], \n",
    "               c=[cmap(cmap_norm(lr))],\n",
    "               norm=cmap_norm))\n",
    "    \n",
    "    x=np.logspace(-3, 0, 200)\n",
    "    ax.plot(x, f(np.log10(x)), \"r-\", c=cmap(cmap_norm(lr)))\n",
    "    ax.set_xscale('log')\n",
    "    ax.set_ylim(-0.1, 1.1)\n",
    "    \n",
    "ax.legend(scatters, learning_rates, title=\"Learning rate\")\n",
    "\n",
    "ax.set_xlabel('Training set size')\n",
    "ax.set_ylabel('Accuracy')\n",
    "plt.show()\n",
    "fig.savefig(\"lenet_training_vs_acc.pdf\")"
   ]
  },
  {
   "cell_type": "code",
   "execution_count": 201,
   "metadata": {
    "scrolled": true
   },
   "outputs": [
    {
     "data": {
      "image/png": "[encoded data removed]",
      "text/plain": [
       "<Figure size 432x288 with 1 Axes>"
      ]
     },
     "metadata": {
      "needs_background": "light"
     },
     "output_type": "display_data"
    }
   ],
   "source": [
    "fig, ax = plt.subplots()\n",
    "\n",
    "training_sizes = results_lenet_phase_2['train_size'].unique()\n",
    "cmap_norm = colors.LogNorm(training_sizes.min(), training_sizes.max())\n",
    "cmap = cm.get_cmap()\n",
    "scatters=[]\n",
    "\n",
    "for ts in training_sizes:\n",
    "    data = results_lenet_phase_2[results_lenet_phase_2['train_size']==ts]\n",
    "    \n",
    "    z = np.polyfit(np.log10(data['learning_rate']), data['accuracy'], 1)\n",
    "    f = np.poly1d(z)\n",
    "    \n",
    "    #params, params_covariance = sp.optimize.curve_fit(f, data['train_size'], data['accuracy'])\n",
    "    \n",
    "    scatters.append(ax.scatter(data['learning_rate'], \n",
    "               data['accuracy'], \n",
    "               c=[cmap(cmap_norm(ts))],\n",
    "               norm=cmap_norm))\n",
    "    \n",
    "    x=np.logspace(-3, -1, 200)\n",
    "    ax.plot(x, f(np.log10(x)), \"r-\", c=cmap(cmap_norm(ts)))\n",
    "    ax.set_xscale('log')\n",
    "    ax.set_ylim(-0.1, 1.1)\n",
    "    \n",
    "ax.legend(scatters, training_sizes, title=\"Training set size\")\n",
    "\n",
    "ax.set_xlabel('Learning rate')\n",
    "ax.set_ylabel('Accuracy')\n",
    "plt.show()\n",
    "fig.savefig(\"lenet_learning_vs_acc.pdf\")"
   ]
  },
  {
   "cell_type": "markdown",
   "metadata": {},
   "source": [
    "### BRNN"
   ]
  },
  {
   "cell_type": "code",
   "execution_count": 230,
   "metadata": {},
   "outputs": [],
   "source": [
    "results_birnn_phase_2 = pd.read_csv(\"results_birnn_phase_2.csv\")\n",
    "model_birnn_phase_2 = ols('accuracy ~ np.log(learning_rate)*np.log(train_size)', results_birnn_phase_2).fit()"
   ]
  },
  {
   "cell_type": "markdown",
   "metadata": {},
   "source": [
    "**ANOVA table**"
   ]
  },
  {
   "cell_type": "code",
   "execution_count": 231,
   "metadata": {},
   "outputs": [
    {
     "data": {
      "text/html": [
       "<div>\n",
       "<style scoped>\n",
       "    .dataframe tbody tr th:only-of-type {\n",
       "        vertical-align: middle;\n",
       "    }\n",
       "\n",
       "    .dataframe tbody tr th {\n",
       "        vertical-align: top;\n",
       "    }\n",
       "\n",
       "    .dataframe thead th {\n",
       "        text-align: right;\n",
       "    }\n",
       "</style>\n",
       "<table border=\"1\" class=\"dataframe\">\n",
       "  <thead>\n",
       "    <tr style=\"text-align: right;\">\n",
       "      <th></th>\n",
       "      <th>df</th>\n",
       "      <th>sum_sq</th>\n",
       "      <th>mean_sq</th>\n",
       "      <th>F</th>\n",
       "      <th>PR(&gt;F)</th>\n",
       "    </tr>\n",
       "  </thead>\n",
       "  <tbody>\n",
       "    <tr>\n",
       "      <th>np.log(learning_rate)</th>\n",
       "      <td>1.0</td>\n",
       "      <td>0.685487</td>\n",
       "      <td>0.685487</td>\n",
       "      <td>203.444517</td>\n",
       "      <td>1.718411e-17</td>\n",
       "    </tr>\n",
       "    <tr>\n",
       "      <th>np.log(train_size)</th>\n",
       "      <td>1.0</td>\n",
       "      <td>1.567622</td>\n",
       "      <td>1.567622</td>\n",
       "      <td>465.251829</td>\n",
       "      <td>5.406390e-24</td>\n",
       "    </tr>\n",
       "    <tr>\n",
       "      <th>np.log(learning_rate):np.log(train_size)</th>\n",
       "      <td>1.0</td>\n",
       "      <td>0.461649</td>\n",
       "      <td>0.461649</td>\n",
       "      <td>137.011870</td>\n",
       "      <td>1.187509e-14</td>\n",
       "    </tr>\n",
       "    <tr>\n",
       "      <th>Residual</th>\n",
       "      <td>41.0</td>\n",
       "      <td>0.138146</td>\n",
       "      <td>0.003369</td>\n",
       "      <td>NaN</td>\n",
       "      <td>NaN</td>\n",
       "    </tr>\n",
       "  </tbody>\n",
       "</table>\n",
       "</div>"
      ],
      "text/plain": [
       "                                            df    sum_sq   mean_sq  \\\n",
       "np.log(learning_rate)                      1.0  0.685487  0.685487   \n",
       "np.log(train_size)                         1.0  1.567622  1.567622   \n",
       "np.log(learning_rate):np.log(train_size)   1.0  0.461649  0.461649   \n",
       "Residual                                  41.0  0.138146  0.003369   \n",
       "\n",
       "                                                   F        PR(>F)  \n",
       "np.log(learning_rate)                     203.444517  1.718411e-17  \n",
       "np.log(train_size)                        465.251829  5.406390e-24  \n",
       "np.log(learning_rate):np.log(train_size)  137.011870  1.187509e-14  \n",
       "Residual                                         NaN           NaN  "
      ]
     },
     "execution_count": 231,
     "metadata": {},
     "output_type": "execute_result"
    }
   ],
   "source": [
    "sm.stats.anova_lm(model_birnn_phase_2, type=2)"
   ]
  },
  {
   "cell_type": "code",
   "execution_count": 232,
   "metadata": {},
   "outputs": [
    {
     "data": {
      "text/plain": [
       "Intercept                                   1.039606\n",
       "np.log(learning_rate)                       0.007574\n",
       "np.log(train_size)                         -0.099674\n",
       "np.log(learning_rate):np.log(train_size)   -0.065411\n",
       "dtype: float64"
      ]
     },
     "execution_count": 232,
     "metadata": {},
     "output_type": "execute_result"
    }
   ],
   "source": [
    "model_birnn_phase_2.params"
   ]
  },
  {
   "cell_type": "code",
   "execution_count": 240,
   "metadata": {
    "scrolled": true
   },
   "outputs": [
    {
     "data": {
      "text/plain": [
       "0.5735312578320093"
      ]
     },
     "execution_count": 240,
     "metadata": {},
     "output_type": "execute_result"
    }
   ],
   "source": [
    "1.039606 + 0.007574 * np.log(0.05) -0.099674 * np.log(0.01) -0.065411 * np.log(0.05) * np.log(0.01)"
   ]
  },
  {
   "cell_type": "markdown",
   "metadata": {},
   "source": [
    "**Training set size prediction function**"
   ]
  },
  {
   "cell_type": "code",
   "execution_count": 248,
   "metadata": {},
   "outputs": [],
   "source": [
    "mu = 1.039606\n",
    "w_lr = 0.007574\n",
    "w_ts = -0.099674\n",
    "w_lr_ts = -0.065411\n",
    "\n",
    "def predict_train_size_birnn(acc, lr):\n",
    "    return np.exp(\n",
    "        (-w_lr*np.log(lr) - mu + acc)/\n",
    "        (w_lr_ts*np.log(lr) + w_ts)\n",
    "    )\n",
    "    \n",
    "    "
   ]
  },
  {
   "cell_type": "code",
   "execution_count": 250,
   "metadata": {},
   "outputs": [
    {
     "data": {
      "text/plain": [
       "0.29690634449384495"
      ]
     },
     "execution_count": 250,
     "metadata": {},
     "output_type": "execute_result"
    }
   ],
   "source": [
    "predict_train_size_birnn(0.9, 0.05)"
   ]
  },
  {
   "cell_type": "markdown",
   "metadata": {},
   "source": [
    "**Plots**"
   ]
  },
  {
   "cell_type": "code",
   "execution_count": 204,
   "metadata": {},
   "outputs": [
    {
     "data": {
      "image/png": "[encoded data removed]",
      "text/plain": [
       "<Figure size 432x288 with 1 Axes>"
      ]
     },
     "metadata": {
      "needs_background": "light"
     },
     "output_type": "display_data"
    }
   ],
   "source": [
    "fig, ax = plt.subplots()\n",
    "\n",
    "learning_rates = results_birnn_phase_2['learning_rate'].unique()\n",
    "cmap_norm = colors.LogNorm(learning_rates.min(), learning_rates.max())\n",
    "cmap = cm.get_cmap()\n",
    "scatters=[]\n",
    "\n",
    "for lr in learning_rates:\n",
    "    data = results_birnn_phase_2[results_birnn_phase_2['learning_rate']==lr]\n",
    "    \n",
    "    z = np.polyfit(np.log10(data['train_size']), data['accuracy'], 1)\n",
    "    f = np.poly1d(z)\n",
    "    \n",
    "    scatters.append(ax.scatter(data['train_size'], \n",
    "               data['accuracy'], \n",
    "               c=[cmap(cmap_norm(lr))]))\n",
    "    \n",
    "    x=np.logspace(-2, 0, 200)\n",
    "    ax.plot(x, f(np.log10(x)), \"r-\", c=cmap(cmap_norm(lr)))\n",
    "    ax.set_xscale('log')\n",
    "    ax.set_ylim(-0.1, 1.1)\n",
    "    \n",
    "ax.legend(scatters, learning_rates, title=\"Learning rate\")\n",
    "\n",
    "ax.set_xlabel('Training set size')\n",
    "ax.set_ylabel('Accuracy')\n",
    "plt.show()\n",
    "fig.savefig(\"birnn_training_vs_acc.pdf\")"
   ]
  },
  {
   "cell_type": "code",
   "execution_count": 205,
   "metadata": {
    "scrolled": true
   },
   "outputs": [
    {
     "data": {
      "image/png": "[encoded data removed]",
      "text/plain": [
       "<Figure size 432x288 with 1 Axes>"
      ]
     },
     "metadata": {
      "needs_background": "light"
     },
     "output_type": "display_data"
    }
   ],
   "source": [
    "fig, ax = plt.subplots()\n",
    "\n",
    "training_sizes = results_birnn_phase_2['train_size'].unique()\n",
    "cmap_norm = colors.LogNorm(training_sizes.min(), training_sizes.max())\n",
    "cmap = cm.get_cmap()\n",
    "scatters=[]\n",
    "\n",
    "for ts in training_sizes:\n",
    "    data = results_birnn_phase_2[results_birnn_phase_2['train_size']==ts]\n",
    "    \n",
    "    z = np.polyfit(np.log10(data['learning_rate']), data['accuracy'], 1)\n",
    "    f = np.poly1d(z)\n",
    "    \n",
    "    #params, params_covariance = sp.optimize.curve_fit(f, data['train_size'], data['accuracy'])\n",
    "    \n",
    "    scatters.append(ax.scatter(data['learning_rate'], \n",
    "               data['accuracy'], \n",
    "               c=[cmap(cmap_norm(ts))],\n",
    "               norm=cmap_norm))\n",
    "    \n",
    "    x=np.logspace(-2, -1, 200)\n",
    "    ax.plot(x, f(np.log10(x)), \"r-\", c=cmap(cmap_norm(ts)))\n",
    "    ax.set_xscale('log')\n",
    "    ax.set_ylim(-0.1, 1.1)\n",
    "    \n",
    "ax.legend(scatters, training_sizes, title=\"Training set size\")\n",
    "\n",
    "ax.set_xlabel('Learning rate')\n",
    "ax.set_ylabel('Accuracy')\n",
    "plt.show()\n",
    "fig.savefig(\"birnn_learning_vs_acc.pdf\")"
   ]
  },
  {
   "cell_type": "markdown",
   "metadata": {},
   "source": [
    "## Initial experiments (Not used)"
   ]
  },
  {
   "cell_type": "markdown",
   "metadata": {},
   "source": [
    "**Experiment on LeNet (Not included in report)**"
   ]
  },
  {
   "cell_type": "code",
   "execution_count": 49,
   "metadata": {},
   "outputs": [
    {
     "data": {
      "text/html": [
       "<div>\n",
       "<style scoped>\n",
       "    .dataframe tbody tr th:only-of-type {\n",
       "        vertical-align: middle;\n",
       "    }\n",
       "\n",
       "    .dataframe tbody tr th {\n",
       "        vertical-align: top;\n",
       "    }\n",
       "\n",
       "    .dataframe thead th {\n",
       "        text-align: right;\n",
       "    }\n",
       "</style>\n",
       "<table border=\"1\" class=\"dataframe\">\n",
       "  <thead>\n",
       "    <tr style=\"text-align: right;\">\n",
       "      <th></th>\n",
       "      <th>df</th>\n",
       "      <th>sum_sq</th>\n",
       "      <th>mean_sq</th>\n",
       "      <th>F</th>\n",
       "      <th>PR(&gt;F)</th>\n",
       "    </tr>\n",
       "  </thead>\n",
       "  <tbody>\n",
       "    <tr>\n",
       "      <th>C(learning_rate)</th>\n",
       "      <td>1.0</td>\n",
       "      <td>0.019967</td>\n",
       "      <td>0.019967</td>\n",
       "      <td>738.757753</td>\n",
       "      <td>1.112608e-23</td>\n",
       "    </tr>\n",
       "    <tr>\n",
       "      <th>C(batch_size)</th>\n",
       "      <td>1.0</td>\n",
       "      <td>0.004358</td>\n",
       "      <td>0.004358</td>\n",
       "      <td>161.224609</td>\n",
       "      <td>4.877388e-14</td>\n",
       "    </tr>\n",
       "    <tr>\n",
       "      <th>C(epochs)</th>\n",
       "      <td>1.0</td>\n",
       "      <td>0.013166</td>\n",
       "      <td>0.013166</td>\n",
       "      <td>487.116733</td>\n",
       "      <td>6.267762e-21</td>\n",
       "    </tr>\n",
       "    <tr>\n",
       "      <th>C(train_size)</th>\n",
       "      <td>1.0</td>\n",
       "      <td>0.000052</td>\n",
       "      <td>0.000052</td>\n",
       "      <td>1.931752</td>\n",
       "      <td>1.741610e-01</td>\n",
       "    </tr>\n",
       "    <tr>\n",
       "      <th>C(learning_rate):C(batch_size)</th>\n",
       "      <td>1.0</td>\n",
       "      <td>0.001324</td>\n",
       "      <td>0.001324</td>\n",
       "      <td>48.972452</td>\n",
       "      <td>6.254146e-08</td>\n",
       "    </tr>\n",
       "    <tr>\n",
       "      <th>C(learning_rate):C(epochs)</th>\n",
       "      <td>1.0</td>\n",
       "      <td>0.005233</td>\n",
       "      <td>0.005233</td>\n",
       "      <td>193.597950</td>\n",
       "      <td>4.037749e-15</td>\n",
       "    </tr>\n",
       "    <tr>\n",
       "      <th>C(batch_size):C(epochs)</th>\n",
       "      <td>1.0</td>\n",
       "      <td>0.000851</td>\n",
       "      <td>0.000851</td>\n",
       "      <td>31.485494</td>\n",
       "      <td>3.354943e-06</td>\n",
       "    </tr>\n",
       "    <tr>\n",
       "      <th>C(learning_rate):C(train_size)</th>\n",
       "      <td>1.0</td>\n",
       "      <td>0.000010</td>\n",
       "      <td>0.000010</td>\n",
       "      <td>0.376957</td>\n",
       "      <td>5.435766e-01</td>\n",
       "    </tr>\n",
       "    <tr>\n",
       "      <th>C(batch_size):C(train_size)</th>\n",
       "      <td>1.0</td>\n",
       "      <td>0.000014</td>\n",
       "      <td>0.000014</td>\n",
       "      <td>0.528143</td>\n",
       "      <td>4.726719e-01</td>\n",
       "    </tr>\n",
       "    <tr>\n",
       "      <th>C(epochs):C(train_size)</th>\n",
       "      <td>1.0</td>\n",
       "      <td>0.000039</td>\n",
       "      <td>0.000039</td>\n",
       "      <td>1.453326</td>\n",
       "      <td>2.368340e-01</td>\n",
       "    </tr>\n",
       "    <tr>\n",
       "      <th>C(learning_rate):C(batch_size):C(epochs)</th>\n",
       "      <td>1.0</td>\n",
       "      <td>0.000070</td>\n",
       "      <td>0.000070</td>\n",
       "      <td>2.589634</td>\n",
       "      <td>1.173878e-01</td>\n",
       "    </tr>\n",
       "    <tr>\n",
       "      <th>C(learning_rate):C(batch_size):C(train_size)</th>\n",
       "      <td>1.0</td>\n",
       "      <td>0.000002</td>\n",
       "      <td>0.000002</td>\n",
       "      <td>0.088549</td>\n",
       "      <td>7.679538e-01</td>\n",
       "    </tr>\n",
       "    <tr>\n",
       "      <th>C(learning_rate):C(epochs):C(train_size)</th>\n",
       "      <td>1.0</td>\n",
       "      <td>0.000022</td>\n",
       "      <td>0.000022</td>\n",
       "      <td>0.815196</td>\n",
       "      <td>3.733352e-01</td>\n",
       "    </tr>\n",
       "    <tr>\n",
       "      <th>C(batch_size):C(epochs):C(train_size)</th>\n",
       "      <td>1.0</td>\n",
       "      <td>0.000010</td>\n",
       "      <td>0.000010</td>\n",
       "      <td>0.372018</td>\n",
       "      <td>5.462135e-01</td>\n",
       "    </tr>\n",
       "    <tr>\n",
       "      <th>C(learning_rate):C(batch_size):C(epochs):C(train_size)</th>\n",
       "      <td>1.0</td>\n",
       "      <td>0.000006</td>\n",
       "      <td>0.000006</td>\n",
       "      <td>0.206248</td>\n",
       "      <td>6.527898e-01</td>\n",
       "    </tr>\n",
       "    <tr>\n",
       "      <th>Residual</th>\n",
       "      <td>32.0</td>\n",
       "      <td>0.000865</td>\n",
       "      <td>0.000027</td>\n",
       "      <td>NaN</td>\n",
       "      <td>NaN</td>\n",
       "    </tr>\n",
       "  </tbody>\n",
       "</table>\n",
       "</div>"
      ],
      "text/plain": [
       "                                                      df    sum_sq   mean_sq  \\\n",
       "C(learning_rate)                                     1.0  0.019967  0.019967   \n",
       "C(batch_size)                                        1.0  0.004358  0.004358   \n",
       "C(epochs)                                            1.0  0.013166  0.013166   \n",
       "C(train_size)                                        1.0  0.000052  0.000052   \n",
       "C(learning_rate):C(batch_size)                       1.0  0.001324  0.001324   \n",
       "C(learning_rate):C(epochs)                           1.0  0.005233  0.005233   \n",
       "C(batch_size):C(epochs)                              1.0  0.000851  0.000851   \n",
       "C(learning_rate):C(train_size)                       1.0  0.000010  0.000010   \n",
       "C(batch_size):C(train_size)                          1.0  0.000014  0.000014   \n",
       "C(epochs):C(train_size)                              1.0  0.000039  0.000039   \n",
       "C(learning_rate):C(batch_size):C(epochs)             1.0  0.000070  0.000070   \n",
       "C(learning_rate):C(batch_size):C(train_size)         1.0  0.000002  0.000002   \n",
       "C(learning_rate):C(epochs):C(train_size)             1.0  0.000022  0.000022   \n",
       "C(batch_size):C(epochs):C(train_size)                1.0  0.000010  0.000010   \n",
       "C(learning_rate):C(batch_size):C(epochs):C(trai...   1.0  0.000006  0.000006   \n",
       "Residual                                            32.0  0.000865  0.000027   \n",
       "\n",
       "                                                             F        PR(>F)  \n",
       "C(learning_rate)                                    738.757753  1.112608e-23  \n",
       "C(batch_size)                                       161.224609  4.877388e-14  \n",
       "C(epochs)                                           487.116733  6.267762e-21  \n",
       "C(train_size)                                         1.931752  1.741610e-01  \n",
       "C(learning_rate):C(batch_size)                       48.972452  6.254146e-08  \n",
       "C(learning_rate):C(epochs)                          193.597950  4.037749e-15  \n",
       "C(batch_size):C(epochs)                              31.485494  3.354943e-06  \n",
       "C(learning_rate):C(train_size)                        0.376957  5.435766e-01  \n",
       "C(batch_size):C(train_size)                           0.528143  4.726719e-01  \n",
       "C(epochs):C(train_size)                               1.453326  2.368340e-01  \n",
       "C(learning_rate):C(batch_size):C(epochs)              2.589634  1.173878e-01  \n",
       "C(learning_rate):C(batch_size):C(train_size)          0.088549  7.679538e-01  \n",
       "C(learning_rate):C(epochs):C(train_size)              0.815196  3.733352e-01  \n",
       "C(batch_size):C(epochs):C(train_size)                 0.372018  5.462135e-01  \n",
       "C(learning_rate):C(batch_size):C(epochs):C(trai...    0.206248  6.527898e-01  \n",
       "Residual                                                   NaN           NaN  "
      ]
     },
     "execution_count": 49,
     "metadata": {},
     "output_type": "execute_result"
    }
   ],
   "source": [
    "sm.stats.anova_lm(model_lenet, type=2)"
   ]
  },
  {
   "cell_type": "markdown",
   "metadata": {},
   "source": [
    "**Experiment on BRNN (not included in report)**"
   ]
  },
  {
   "cell_type": "code",
   "execution_count": 77,
   "metadata": {
    "scrolled": true
   },
   "outputs": [
    {
     "data": {
      "text/html": [
       "<div>\n",
       "<style scoped>\n",
       "    .dataframe tbody tr th:only-of-type {\n",
       "        vertical-align: middle;\n",
       "    }\n",
       "\n",
       "    .dataframe tbody tr th {\n",
       "        vertical-align: top;\n",
       "    }\n",
       "\n",
       "    .dataframe thead th {\n",
       "        text-align: right;\n",
       "    }\n",
       "</style>\n",
       "<table border=\"1\" class=\"dataframe\">\n",
       "  <thead>\n",
       "    <tr style=\"text-align: right;\">\n",
       "      <th></th>\n",
       "      <th>df</th>\n",
       "      <th>sum_sq</th>\n",
       "      <th>mean_sq</th>\n",
       "      <th>F</th>\n",
       "      <th>PR(&gt;F)</th>\n",
       "    </tr>\n",
       "  </thead>\n",
       "  <tbody>\n",
       "    <tr>\n",
       "      <th>C(learning_rate)</th>\n",
       "      <td>1.0</td>\n",
       "      <td>1.572757</td>\n",
       "      <td>1.572757</td>\n",
       "      <td>2177.150880</td>\n",
       "      <td>5.293552e-31</td>\n",
       "    </tr>\n",
       "    <tr>\n",
       "      <th>C(batch_size)</th>\n",
       "      <td>2.0</td>\n",
       "      <td>0.782190</td>\n",
       "      <td>0.391095</td>\n",
       "      <td>541.388505</td>\n",
       "      <td>2.125160e-25</td>\n",
       "    </tr>\n",
       "    <tr>\n",
       "      <th>C(epochs)</th>\n",
       "      <td>1.0</td>\n",
       "      <td>0.714479</td>\n",
       "      <td>0.714479</td>\n",
       "      <td>989.045220</td>\n",
       "      <td>1.230707e-25</td>\n",
       "    </tr>\n",
       "    <tr>\n",
       "      <th>C(train_size)</th>\n",
       "      <td>1.0</td>\n",
       "      <td>0.275971</td>\n",
       "      <td>0.275971</td>\n",
       "      <td>382.024345</td>\n",
       "      <td>2.357012e-19</td>\n",
       "    </tr>\n",
       "    <tr>\n",
       "      <th>C(learning_rate):C(batch_size)</th>\n",
       "      <td>2.0</td>\n",
       "      <td>0.138740</td>\n",
       "      <td>0.069370</td>\n",
       "      <td>96.028448</td>\n",
       "      <td>2.996861e-14</td>\n",
       "    </tr>\n",
       "    <tr>\n",
       "      <th>C(learning_rate):C(epochs)</th>\n",
       "      <td>1.0</td>\n",
       "      <td>0.107943</td>\n",
       "      <td>0.107943</td>\n",
       "      <td>149.424905</td>\n",
       "      <td>1.344815e-13</td>\n",
       "    </tr>\n",
       "    <tr>\n",
       "      <th>C(batch_size):C(epochs)</th>\n",
       "      <td>2.0</td>\n",
       "      <td>0.000603</td>\n",
       "      <td>0.000301</td>\n",
       "      <td>0.417300</td>\n",
       "      <td>6.623570e-01</td>\n",
       "    </tr>\n",
       "    <tr>\n",
       "      <th>C(learning_rate):C(train_size)</th>\n",
       "      <td>1.0</td>\n",
       "      <td>0.000270</td>\n",
       "      <td>0.000270</td>\n",
       "      <td>0.374327</td>\n",
       "      <td>5.449780e-01</td>\n",
       "    </tr>\n",
       "    <tr>\n",
       "      <th>C(batch_size):C(train_size)</th>\n",
       "      <td>2.0</td>\n",
       "      <td>0.000781</td>\n",
       "      <td>0.000390</td>\n",
       "      <td>0.540410</td>\n",
       "      <td>5.877321e-01</td>\n",
       "    </tr>\n",
       "    <tr>\n",
       "      <th>C(epochs):C(train_size)</th>\n",
       "      <td>1.0</td>\n",
       "      <td>0.000200</td>\n",
       "      <td>0.000200</td>\n",
       "      <td>0.276198</td>\n",
       "      <td>6.028271e-01</td>\n",
       "    </tr>\n",
       "    <tr>\n",
       "      <th>C(learning_rate):C(batch_size):C(epochs)</th>\n",
       "      <td>2.0</td>\n",
       "      <td>0.005946</td>\n",
       "      <td>0.002973</td>\n",
       "      <td>4.115822</td>\n",
       "      <td>2.566346e-02</td>\n",
       "    </tr>\n",
       "    <tr>\n",
       "      <th>C(learning_rate):C(batch_size):C(train_size)</th>\n",
       "      <td>2.0</td>\n",
       "      <td>0.002800</td>\n",
       "      <td>0.001400</td>\n",
       "      <td>1.938183</td>\n",
       "      <td>1.604961e-01</td>\n",
       "    </tr>\n",
       "    <tr>\n",
       "      <th>C(learning_rate):C(epochs):C(train_size)</th>\n",
       "      <td>1.0</td>\n",
       "      <td>0.000003</td>\n",
       "      <td>0.000003</td>\n",
       "      <td>0.004384</td>\n",
       "      <td>9.476197e-01</td>\n",
       "    </tr>\n",
       "    <tr>\n",
       "      <th>C(batch_size):C(epochs):C(train_size)</th>\n",
       "      <td>2.0</td>\n",
       "      <td>0.000111</td>\n",
       "      <td>0.000055</td>\n",
       "      <td>0.076501</td>\n",
       "      <td>9.265205e-01</td>\n",
       "    </tr>\n",
       "    <tr>\n",
       "      <th>C(learning_rate):C(batch_size):C(epochs):C(train_size)</th>\n",
       "      <td>2.0</td>\n",
       "      <td>0.000027</td>\n",
       "      <td>0.000013</td>\n",
       "      <td>0.018453</td>\n",
       "      <td>9.817268e-01</td>\n",
       "    </tr>\n",
       "    <tr>\n",
       "      <th>Residual</th>\n",
       "      <td>32.0</td>\n",
       "      <td>0.023117</td>\n",
       "      <td>0.000722</td>\n",
       "      <td>NaN</td>\n",
       "      <td>NaN</td>\n",
       "    </tr>\n",
       "  </tbody>\n",
       "</table>\n",
       "</div>"
      ],
      "text/plain": [
       "                                                      df    sum_sq   mean_sq  \\\n",
       "C(learning_rate)                                     1.0  1.572757  1.572757   \n",
       "C(batch_size)                                        2.0  0.782190  0.391095   \n",
       "C(epochs)                                            1.0  0.714479  0.714479   \n",
       "C(train_size)                                        1.0  0.275971  0.275971   \n",
       "C(learning_rate):C(batch_size)                       2.0  0.138740  0.069370   \n",
       "C(learning_rate):C(epochs)                           1.0  0.107943  0.107943   \n",
       "C(batch_size):C(epochs)                              2.0  0.000603  0.000301   \n",
       "C(learning_rate):C(train_size)                       1.0  0.000270  0.000270   \n",
       "C(batch_size):C(train_size)                          2.0  0.000781  0.000390   \n",
       "C(epochs):C(train_size)                              1.0  0.000200  0.000200   \n",
       "C(learning_rate):C(batch_size):C(epochs)             2.0  0.005946  0.002973   \n",
       "C(learning_rate):C(batch_size):C(train_size)         2.0  0.002800  0.001400   \n",
       "C(learning_rate):C(epochs):C(train_size)             1.0  0.000003  0.000003   \n",
       "C(batch_size):C(epochs):C(train_size)                2.0  0.000111  0.000055   \n",
       "C(learning_rate):C(batch_size):C(epochs):C(trai...   2.0  0.000027  0.000013   \n",
       "Residual                                            32.0  0.023117  0.000722   \n",
       "\n",
       "                                                              F        PR(>F)  \n",
       "C(learning_rate)                                    2177.150880  5.293552e-31  \n",
       "C(batch_size)                                        541.388505  2.125160e-25  \n",
       "C(epochs)                                            989.045220  1.230707e-25  \n",
       "C(train_size)                                        382.024345  2.357012e-19  \n",
       "C(learning_rate):C(batch_size)                        96.028448  2.996861e-14  \n",
       "C(learning_rate):C(epochs)                           149.424905  1.344815e-13  \n",
       "C(batch_size):C(epochs)                                0.417300  6.623570e-01  \n",
       "C(learning_rate):C(train_size)                         0.374327  5.449780e-01  \n",
       "C(batch_size):C(train_size)                            0.540410  5.877321e-01  \n",
       "C(epochs):C(train_size)                                0.276198  6.028271e-01  \n",
       "C(learning_rate):C(batch_size):C(epochs)               4.115822  2.566346e-02  \n",
       "C(learning_rate):C(batch_size):C(train_size)           1.938183  1.604961e-01  \n",
       "C(learning_rate):C(epochs):C(train_size)               0.004384  9.476197e-01  \n",
       "C(batch_size):C(epochs):C(train_size)                  0.076501  9.265205e-01  \n",
       "C(learning_rate):C(batch_size):C(epochs):C(trai...     0.018453  9.817268e-01  \n",
       "Residual                                                    NaN           NaN  "
      ]
     },
     "execution_count": 77,
     "metadata": {},
     "output_type": "execute_result"
    }
   ],
   "source": [
    "sm.stats.anova_lm(model_birnn, type=2)"
   ]
  }
 ],
 "metadata": {
  "kernelspec": {
   "display_name": "Python 3",
   "language": "python",
   "name": "python3"
  },
  "language_info": {
   "codemirror_mode": {
    "name": "ipython",
    "version": 3
   },
   "file_extension": ".py",
   "mimetype": "text/x-python",
   "name": "python",
   "nbconvert_exporter": "python",
   "pygments_lexer": "ipython3",
   "version": "3.8.5"
  }
 },
 "nbformat": 4,
 "nbformat_minor": 4
}
